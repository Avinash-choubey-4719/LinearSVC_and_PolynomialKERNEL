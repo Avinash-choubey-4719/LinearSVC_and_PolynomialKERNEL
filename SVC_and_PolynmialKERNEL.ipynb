{
 "cells": [
  {
   "cell_type": "code",
   "execution_count": 1,
   "id": "96dfc961",
   "metadata": {},
   "outputs": [],
   "source": [
    "from sklearn.datasets import load_iris"
   ]
  },
  {
   "cell_type": "code",
   "execution_count": 2,
   "id": "a31adae2",
   "metadata": {},
   "outputs": [],
   "source": [
    "dataset = load_iris()"
   ]
  },
  {
   "cell_type": "code",
   "execution_count": 3,
   "id": "aec22b7c",
   "metadata": {},
   "outputs": [
    {
     "data": {
      "text/plain": [
       "dict_keys(['data', 'target', 'frame', 'target_names', 'DESCR', 'feature_names', 'filename', 'data_module'])"
      ]
     },
     "execution_count": 3,
     "metadata": {},
     "output_type": "execute_result"
    }
   ],
   "source": [
    "dataset.keys()"
   ]
  },
  {
   "cell_type": "code",
   "execution_count": 5,
   "id": "69c06505",
   "metadata": {},
   "outputs": [],
   "source": [
    "x = dataset['data'][:, (2, 3)]"
   ]
  },
  {
   "cell_type": "code",
   "execution_count": 6,
   "id": "775106f5",
   "metadata": {},
   "outputs": [],
   "source": [
    "y = (dataset['target'] == 2)"
   ]
  },
  {
   "cell_type": "code",
   "execution_count": 28,
   "id": "d4d2e90e",
   "metadata": {},
   "outputs": [],
   "source": [
    "from sklearn.metrics import accuracy_score, mean_squared_error\n",
    "def compute(model, x_train, y_train, x_test, y_test):\n",
    "    model.fit(x_train, y_train)\n",
    "    y_predict = model.predict(x_test)\n",
    "    print(accuracy_score(y_test, y_predict))"
   ]
  },
  {
   "cell_type": "code",
   "execution_count": 9,
   "id": "9bb41801",
   "metadata": {},
   "outputs": [],
   "source": [
    "from sklearn.svm import SVC, LinearSVC"
   ]
  },
  {
   "cell_type": "code",
   "execution_count": 10,
   "id": "0a467b87",
   "metadata": {},
   "outputs": [],
   "source": [
    "model1 = LinearSVC(C = 1, loss='hinge')\n",
    "model2 = LinearSVC(C = 2, loss='hinge')"
   ]
  },
  {
   "cell_type": "code",
   "execution_count": 11,
   "id": "c3609541",
   "metadata": {},
   "outputs": [],
   "source": [
    "model3 = SVC(kernel='linear', C = 1)\n",
    "model4 = SVC(kernel='linear', C = 2)"
   ]
  },
  {
   "cell_type": "code",
   "execution_count": 12,
   "id": "ff63578e",
   "metadata": {},
   "outputs": [],
   "source": [
    "from sklearn.preprocessing import PolynomialFeatures"
   ]
  },
  {
   "cell_type": "code",
   "execution_count": 13,
   "id": "f1ac26f5",
   "metadata": {},
   "outputs": [],
   "source": [
    "x_poly1 = PolynomialFeatures(degree=2, include_bias=True)\n",
    "x_poly2 = PolynomialFeatures(degree=3, include_bias=True)"
   ]
  },
  {
   "cell_type": "code",
   "execution_count": 23,
   "id": "5c9c87f0",
   "metadata": {},
   "outputs": [],
   "source": [
    "from sklearn.model_selection import train_test_split\n",
    "x_train1, x_test1, y_train, y_test = train_test_split(x, y, test_size=0.2, random_state=42)"
   ]
  },
  {
   "cell_type": "code",
   "execution_count": 24,
   "id": "a7278fb8",
   "metadata": {},
   "outputs": [],
   "source": [
    "x_train2 = x_poly1.fit_transform(x_train1)\n",
    "x_test2 = x_poly1.transform(x_test1)"
   ]
  },
  {
   "cell_type": "code",
   "execution_count": 25,
   "id": "9553ef30",
   "metadata": {},
   "outputs": [],
   "source": [
    "x_train3 = x_poly2.fit_transform(x_train1)\n",
    "x_test3 = x_poly2.transform(x_test1)"
   ]
  },
  {
   "cell_type": "code",
   "execution_count": 19,
   "id": "846f0d63",
   "metadata": {},
   "outputs": [],
   "source": [
    "model5 = SVC(kernel='poly', degree = 2, coef0=1, C=1)\n",
    "model6 = SVC(kernel='poly', degree = 3, coef0=1, C=1)\n",
    "model7 = SVC(kernel='poly', degree = 2, coef0=2, C=1)\n",
    "model8 = SVC(kernel='poly', degree = 3, coef0=2, C=1)\n",
    "model9 = SVC(kernel='poly', degree = 2, coef0=1, C=2)\n",
    "model10 = SVC(kernel='poly', degree = 3, coef0=1, C=2)"
   ]
  },
  {
   "cell_type": "code",
   "execution_count": 29,
   "id": "8495e09d",
   "metadata": {},
   "outputs": [
    {
     "name": "stdout",
     "output_type": "stream",
     "text": [
      "1.0\n",
      "1.0\n",
      "1.0\n",
      "1.0\n",
      "1.0\n",
      "1.0\n"
     ]
    },
    {
     "name": "stderr",
     "output_type": "stream",
     "text": [
      "/usr/local/lib/python3.11/dist-packages/sklearn/svm/_base.py:1244: ConvergenceWarning: Liblinear failed to converge, increase the number of iterations.\n",
      "  warnings.warn(\n",
      "/usr/local/lib/python3.11/dist-packages/sklearn/svm/_base.py:1244: ConvergenceWarning: Liblinear failed to converge, increase the number of iterations.\n",
      "  warnings.warn(\n",
      "/usr/local/lib/python3.11/dist-packages/sklearn/svm/_base.py:1244: ConvergenceWarning: Liblinear failed to converge, increase the number of iterations.\n",
      "  warnings.warn(\n",
      "/usr/local/lib/python3.11/dist-packages/sklearn/svm/_base.py:1244: ConvergenceWarning: Liblinear failed to converge, increase the number of iterations.\n",
      "  warnings.warn(\n",
      "/usr/local/lib/python3.11/dist-packages/sklearn/svm/_base.py:1244: ConvergenceWarning: Liblinear failed to converge, increase the number of iterations.\n",
      "  warnings.warn(\n",
      "/usr/local/lib/python3.11/dist-packages/sklearn/svm/_base.py:1244: ConvergenceWarning: Liblinear failed to converge, increase the number of iterations.\n",
      "  warnings.warn(\n"
     ]
    }
   ],
   "source": [
    "compute(model1, x_train1, y_train, x_test1, y_test)\n",
    "compute(model1, x_train2, y_train, x_test2, y_test)\n",
    "compute(model1, x_train3, y_train, x_test3, y_test)\n",
    "\n",
    "compute(model2, x_train1, y_train, x_test1, y_test)\n",
    "compute(model2, x_train2, y_train, x_test2, y_test)\n",
    "compute(model2, x_train3, y_train, x_test3, y_test)"
   ]
  },
  {
   "cell_type": "code",
   "execution_count": null,
   "id": "dd2e570e",
   "metadata": {},
   "outputs": [],
   "source": []
  }
 ],
 "metadata": {
  "kernelspec": {
   "display_name": "Python 3 (ipykernel)",
   "language": "python",
   "name": "python3"
  },
  "language_info": {
   "codemirror_mode": {
    "name": "ipython",
    "version": 3
   },
   "file_extension": ".py",
   "mimetype": "text/x-python",
   "name": "python",
   "nbconvert_exporter": "python",
   "pygments_lexer": "ipython3",
   "version": "3.11.2"
  }
 },
 "nbformat": 4,
 "nbformat_minor": 5
}
